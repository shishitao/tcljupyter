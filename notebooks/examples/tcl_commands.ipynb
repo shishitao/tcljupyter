{
 "cells": [
  {
   "cell_type": "markdown",
   "metadata": {
    "toc": true
   },
   "source": [
    "<h1>Table of Contents<span class=\"tocSkip\"></span></h1>\n",
    "<div class=\"toc\"><ul class=\"toc-item\"><li><span><a href=\"#Math\" data-toc-modified-id=\"Math-1\"><span class=\"toc-item-num\">1&nbsp;&nbsp;</span>Math</a></span><ul class=\"toc-item\"><li><span><a href=\"#puts\" data-toc-modified-id=\"puts-1.1\"><span class=\"toc-item-num\">1.1&nbsp;&nbsp;</span>puts</a></span></li><li><span><a href=\"#set\" data-toc-modified-id=\"set-1.2\"><span class=\"toc-item-num\">1.2&nbsp;&nbsp;</span>set</a></span></li><li><span><a href=\"#expr\" data-toc-modified-id=\"expr-1.3\"><span class=\"toc-item-num\">1.3&nbsp;&nbsp;</span>expr</a></span></li></ul></li><li><span><a href=\"#Symbols\" data-toc-modified-id=\"Symbols-2\"><span class=\"toc-item-num\">2&nbsp;&nbsp;</span>Symbols</a></span><ul class=\"toc-item\"><li><span><a href=\"#Variable-Substitution-$\" data-toc-modified-id=\"Variable-Substitution-$-2.1\"><span class=\"toc-item-num\">2.1&nbsp;&nbsp;</span>Variable Substitution $</a></span></li><li><span><a href=\"#Double-Quotes-&quot;-&quot;\" data-toc-modified-id=\"Double-Quotes-&quot;-&quot;-2.2\"><span class=\"toc-item-num\">2.2&nbsp;&nbsp;</span>Double Quotes \" \"</a></span></li><li><span><a href=\"#Curly-Brace-{}\" data-toc-modified-id=\"Curly-Brace-{}-2.3\"><span class=\"toc-item-num\">2.3&nbsp;&nbsp;</span>Curly Brace {}</a></span></li><li><span><a href=\"#Backslash-Substitution-\\\" data-toc-modified-id=\"Backslash-Substitution-\\-2.4\"><span class=\"toc-item-num\">2.4&nbsp;&nbsp;</span>Backslash Substitution \\</a></span></li><li><span><a href=\"#Command-Substitution-[]\" data-toc-modified-id=\"Command-Substitution-[]-2.5\"><span class=\"toc-item-num\">2.5&nbsp;&nbsp;</span>Command Substitution []</a></span></li></ul></li><li><span><a href=\"#Control-Structure\" data-toc-modified-id=\"Control-Structure-3\"><span class=\"toc-item-num\">3&nbsp;&nbsp;</span>Control Structure</a></span><ul class=\"toc-item\"><li><span><a href=\"#if\" data-toc-modified-id=\"if-3.1\"><span class=\"toc-item-num\">3.1&nbsp;&nbsp;</span>if</a></span></li><li><span><a href=\"#switch\" data-toc-modified-id=\"switch-3.2\"><span class=\"toc-item-num\">3.2&nbsp;&nbsp;</span>switch</a></span></li><li><span><a href=\"#foreach\" data-toc-modified-id=\"foreach-3.3\"><span class=\"toc-item-num\">3.3&nbsp;&nbsp;</span>foreach</a></span></li><li><span><a href=\"#for\" data-toc-modified-id=\"for-3.4\"><span class=\"toc-item-num\">3.4&nbsp;&nbsp;</span>for</a></span></li><li><span><a href=\"#while\" data-toc-modified-id=\"while-3.5\"><span class=\"toc-item-num\">3.5&nbsp;&nbsp;</span>while</a></span></li></ul></li><li><span><a href=\"#Data-Structure\" data-toc-modified-id=\"Data-Structure-4\"><span class=\"toc-item-num\">4&nbsp;&nbsp;</span>Data Structure</a></span><ul class=\"toc-item\"><li><span><a href=\"#Array数组\" data-toc-modified-id=\"Array数组-4.1\"><span class=\"toc-item-num\">4.1&nbsp;&nbsp;</span>Array数组</a></span></li><li><span><a href=\"#list列表\" data-toc-modified-id=\"list列表-4.2\"><span class=\"toc-item-num\">4.2&nbsp;&nbsp;</span>list列表</a></span></li><li><span><a href=\"#Adding-&amp;-Deleting-members-of-a-list\" data-toc-modified-id=\"Adding-&amp;-Deleting-members-of-a-list-4.3\"><span class=\"toc-item-num\">4.3&nbsp;&nbsp;</span>Adding &amp; Deleting members of a list</a></span></li><li><span><a href=\"#More-list-commands---lsearch,-lsort,-lrange\" data-toc-modified-id=\"More-list-commands---lsearch,-lsort,-lrange-4.4\"><span class=\"toc-item-num\">4.4&nbsp;&nbsp;</span>More list commands - lsearch, lsort, lrange</a></span></li></ul></li><li><span><a href=\"#New-Commands\" data-toc-modified-id=\"New-Commands-5\"><span class=\"toc-item-num\">5&nbsp;&nbsp;</span>New Commands</a></span><ul class=\"toc-item\"><li><span><a href=\"#proc\" data-toc-modified-id=\"proc-5.1\"><span class=\"toc-item-num\">5.1&nbsp;&nbsp;</span>proc</a></span></li><li><span><a href=\"#return\" data-toc-modified-id=\"return-5.2\"><span class=\"toc-item-num\">5.2&nbsp;&nbsp;</span>return</a></span></li></ul></li></ul></div>"
   ]
  },
  {
   "cell_type": "markdown",
   "metadata": {},
   "source": [
    "## Math"
   ]
  },
  {
   "cell_type": "markdown",
   "metadata": {},
   "source": [
    "### puts"
   ]
  },
  {
   "cell_type": "code",
   "execution_count": 1,
   "metadata": {
    "scrolled": true
   },
   "outputs": [
    {
     "name": "stdout",
     "output_type": "stream",
     "text": [
      "=====================================================\n",
      "1. Math\n",
      "-----------------------------------------------------\n",
      "\t puts \n",
      "\n",
      "Hello, World!\n",
      "Hello, World - In quotes\n",
      "Hello, World - In Braces\n",
      "This is line 1\n",
      "this is line 2\n",
      "Hello, World; - With  a semicolon inside the quotes\n"
     ]
    }
   ],
   "source": [
    "puts \"=====================================================\"\n",
    "puts \"1. Math\"\n",
    "puts \"-----------------------------------------------------\"\n",
    "puts \"\\t puts \\n\"\n",
    "\n",
    "puts \"Hello, World!\"\n",
    "puts \"Hello, World - In quotes\"    ;                        # This is a comment after the command.\n",
    "# This is a comment at beginning of a line\n",
    "puts {Hello, World - In Braces}\n",
    "# puts {Bad comment syntax example}                         # *Error* - there is no semicolon!\n",
    "puts \"This is line 1\"; puts \"this is line 2\"\n",
    "puts \"Hello, World; - With  a semicolon inside the quotes\"; # 在使用双引号的时候，双引号内的分隔符(逗号，空格，分号)不作处理（认为是字符串中的字符）\n"
   ]
  },
  {
   "cell_type": "markdown",
   "metadata": {},
   "source": [
    "### set"
   ]
  },
  {
   "cell_type": "code",
   "execution_count": 2,
   "metadata": {},
   "outputs": [
    {
     "name": "stdout",
     "output_type": "stream",
     "text": [
      "This is a string\n",
      "1.24\n",
      "The value in Y is:  1.24\n"
     ]
    }
   ],
   "source": [
    "set X \"This is a string\"\n",
    "set Y 1.24\n",
    "\n",
    "puts $X\n",
    "puts $Y\n",
    "\n",
    "set label \"The value in Y is: \"\n",
    "puts \"$label $Y\"\n"
   ]
  },
  {
   "cell_type": "markdown",
   "metadata": {},
   "source": [
    "### expr"
   ]
  },
  {
   "cell_type": "code",
   "execution_count": 3,
   "metadata": {},
   "outputs": [
    {
     "name": "stdout",
     "output_type": "stream",
     "text": [
      "x = 10.0\n",
      "7.2 / 4 = 1.8\n",
      "a = 1\n",
      "b = 2\n",
      "c = 3.0\n",
      "d = 4.\n",
      "e = Tom\n",
      "\n",
      "1.41\n",
      "a+b = 3\n",
      "\n",
      "1/2 = 0\n",
      "1/4. = 0.25\n",
      "\n"
     ]
    }
   ],
   "source": [
    "# Performance tip: enclosing the arguments to expr in curly braces will result in faster code. So do expr {$i * 10} instead of simply expr $i * 10\n",
    "puts \"x = [expr 10.0 ]\"\n",
    "puts \"7.2 / 4 = [expr {7.2 / 4}]\";\n",
    "set a 1;    # 创建变量a，赋值\"1\"\n",
    "puts \"a = $a\";  \n",
    "set b 2;    # 创建变量b，赋值\"2\"\n",
    "puts \"b = $b\";    \n",
    "set c 3.0;  # 创建变量c，赋值\"3.0\"\n",
    "puts \"c = $c\";    \n",
    "set d 4.;   # 创建变量d，赋值\"4.\"\n",
    "puts \"d = $d\";  \n",
    "set e \"Tom\";# 创建变量e，赋值\"Tom\"\n",
    "puts \"e = $e\\n\";  \n",
    "set sqt [expr sqrt($b)] ;  # 计算b的开平方\n",
    "puts [format \"%.2f\" $sqt] ;# 输出保留两位小数的形式,\"%.2f\" 表示保留两位小数\n",
    "set sum [expr $a + $b] ;   # 计算a加b，并赋值给sum\n",
    "puts \"a+b = $sum\\n\";  \n",
    "\n",
    "# 1 / 2 = 0; 1 / 4. = 0.25 所以在做除法运算的时候，如不是有特殊目的，请把被除数与除数至少二者之一指定为浮点数。\n",
    "set quo1 [expr $a / $b] ;  # 计算a除以b，并赋值给quo1\n",
    "puts \"$a/$b = $quo1\";      # 1 / 2 运算的结果为 0，对于两个整数的除法，得到的是商的整数部分，而非一个浮点数，这在实际使用的时候经常造成错误。\n",
    "set quo2 [expr $a / $d] ;  # 计算a除以d，并赋值给quo2\n",
    "puts \"$a/$d = $quo2\\n\";\n"
   ]
  },
  {
   "cell_type": "code",
   "execution_count": 4,
   "metadata": {},
   "outputs": [
    {
     "name": "stdout",
     "output_type": "stream",
     "text": [
      "The square root of 256 is 16.0\n",
      "\n",
      "Because of the precedence rules \"5 + -3 * 4\"   is: -7\n",
      "Because of the parentheses      \"(5 + -3) * 4\" is: 8\n",
      "The hypotenuse of a triangle: 5.0\n",
      "The sine and cosine of pi/6: 0.49999999226497965 0.8660254082502546\n"
     ]
    }
   ],
   "source": [
    "set X 100\n",
    "set Y 256\n",
    "set Z [expr {$Y + $X}]\n",
    "puts \"The square root of $Y is [expr { sqrt($Y) }]\\n\"\n",
    "\n",
    "puts \"Because of the precedence rules \\\"5 + -3 * 4\\\"   is: [expr {5 - 3 * 4}]\"\n",
    "puts \"Because of the parentheses      \\\"(5 + -3) * 4\\\" is: [expr {(5 + -3) * 4}]\"\n",
    "\n",
    "set A 3\n",
    "set B 4\n",
    "puts \"The hypotenuse of a triangle: [expr {hypot($A,$B)}]\"; # hypot, 三角形斜边\n",
    "\n",
    "# The trigonometric functions work with radians， e.g. sin(pi/6) insdead of sin(30)， 三角函数使用弧度(pi/6)而不是角度（30）\n",
    "set pi6 [expr {3.1415926/6.0}]\n",
    "puts \"The sine and cosine of pi/6: [expr {sin($pi6)}] [expr {cos($pi6)}]\"\n"
   ]
  },
  {
   "cell_type": "markdown",
   "metadata": {},
   "source": [
    "## Symbols"
   ]
  },
  {
   "cell_type": "markdown",
   "metadata": {},
   "source": [
    "### Variable Substitution $"
   ]
  },
  {
   "cell_type": "code",
   "execution_count": 5,
   "metadata": {},
   "outputs": [
    {
     "name": "stdout",
     "output_type": "stream",
     "text": [
      "totalLength = 6\n",
      "\n",
      "var = 5\n",
      "var2 = 5\n"
     ]
    }
   ],
   "source": [
    "# In variable substitutions, $ is used before the variable name and this returns the contents of the variable.\n",
    "# 变量置换 是最简单的置换，只要在变量名之前加上 $ 符号，就可以把后面所跟的变量名置换为变量所代表的值。\n",
    "\n",
    "# Example 1-9 Continuing long lines with backslashes\n",
    "set totalLength [expr [string length one] + \\\n",
    "    [string length two]]\n",
    "puts \"totalLength = $totalLength\\n\";\n",
    "\n",
    "set var 5;\n",
    "puts \"var = $var\";    \n",
    "set var2 $var; # The second set command assigns to variable var2 the value of variable var. \n",
    "puts \"var2 = $var2\"; \n"
   ]
  },
  {
   "cell_type": "markdown",
   "metadata": {},
   "source": [
    "### Double Quotes \" \""
   ]
  },
  {
   "cell_type": "code",
   "execution_count": 6,
   "metadata": {},
   "outputs": [
    {
     "name": "stdout",
     "output_type": "stream",
     "text": [
      "5\n",
      "The length of Hello is 5.\n",
      "The length of $s is [string length $s].\n",
      "7+9=16\n",
      "7+9=16\n",
      "7 + 9 = 16\n",
      "\n",
      "The Capitol of New York is:  Albany\n",
      "The Capitol of New York is:  $Z\n"
     ]
    }
   ],
   "source": [
    "# Example 1-10 Grouping with double quotes vs. braces.\n",
    "# Double quotes and curly braces are used to group words together into one argument. The difference between double quotes and curly braces is that quotes allow substitutions to occur in the group, while curly braces prevent substitutions.\n",
    "# stdout is used to identify the standard output stream.\n",
    "# 在使用双引号的时候，双引号内的分隔符(逗号，空格，分号)不作处理（认为是字符串中的字符），但是对于换行符、$置换符和[]置换符会照常处理。如果不想让这些被处理，请用花括号 {} 将它们括起来。\n",
    "\n",
    "set s Hello\n",
    "puts stdout [string length $s]\n",
    "puts stdout \"The length of $s is [string length $s].\"\n",
    "puts stdout {The length of $s is [string length $s].}\n",
    "\n",
    "# Example 1-11 Embedded command and variable substitution\n",
    "set x 7; set y 9\n",
    "puts $x+$y=[expr $x + $y]\n",
    "puts stdout $x+$y=[expr $x + $y]\n",
    "puts stdout \"$x + $y = [expr {$x + $y}]\\n\"\n",
    "\n",
    "set Z Albany\n",
    "set Z_LABEL \"The Capitol of New York is: \"\n",
    "\n",
    "puts \"$Z_LABEL $Z\"   ;# Prints the value of Z\n",
    "puts \"$Z_LABEL \\$Z\"  ;# Prints a literal $Z instead of the value of Z\n"
   ]
  },
  {
   "cell_type": "markdown",
   "metadata": {},
   "source": [
    "### Curly Brace {}"
   ]
  },
  {
   "cell_type": "code",
   "execution_count": 7,
   "metadata": {},
   "outputs": [
    {
     "name": "stdout",
     "output_type": "stream",
     "text": [
      "\n",
      " examples of differences between  \" and {\n",
      "The Capitol of New York is:  Albany\n",
      "$Z_LABEL $Z\n",
      "\n",
      "....... examples of differences in nesting { and \" \n",
      "The Capitol of New York is:  {Albany}\n",
      "Who said, \"What this country needs is a good $0.05 cigar!\"?\n",
      "\n",
      " examples of escape strings\n",
      "There are no substitutions done within braces \\n \\r \\x0a \\f \\v\n",
      "But, the escaped newline at the end of a string is still evaluated as a space\n"
     ]
    }
   ],
   "source": [
    "# Double quotes \"\" allows substitutions to occur within the double quotes. By contrast, grouping words within double braces {} disables substitution within the braces.\n",
    "\n",
    "set Z Albany\n",
    "set Z_LABEL \"The Capitol of New York is: \"\n",
    "\n",
    "puts \"\\n examples of differences between  \\\" and \\{\"\n",
    "puts \"$Z_LABEL $Z\"\n",
    "puts {$Z_LABEL $Z}\n",
    "\n",
    "puts \"\\n....... examples of differences in nesting \\{ and \\\" \"\n",
    "puts \"$Z_LABEL {$Z}\"\n",
    "puts {Who said, \"What this country needs is a good $0.05 cigar!\"?}\n",
    "\n",
    "puts \"\\n examples of escape strings\"\n",
    "puts {There are no substitutions done within braces \\n \\r \\x0a \\f \\v}\n",
    "puts {But, the escaped newline at the end of a\\\n",
    "string is still evaluated as a space}\n"
   ]
  },
  {
   "cell_type": "markdown",
   "metadata": {},
   "source": [
    "### Backslash Substitution \\"
   ]
  },
  {
   "cell_type": "code",
   "execution_count": 8,
   "metadata": {},
   "outputs": [
    {
     "name": "stdout",
     "output_type": "stream",
     "text": [
      "Hello\n",
      "World\n",
      "\n",
      "Hello\tWorld\n",
      "\n",
      "................. examples of escape strings\n",
      "Tab\tTab\tTab\n",
      "This string prints out \n",
      "on two lines\n",
      "This string comes out on a single line\n"
     ]
    }
   ],
   "source": [
    "# The first argument to format is a format specifier that often includes special characters like newlines, tabs, and spaces. \n",
    "# The easiest way to specify these characters is with backslash sequences (e.g., \\n for new line and \\t for tab). \n",
    "# Backslash Substitution These are commonly called escape sequences; with each backslash, followed by a letter having its own meaning. A simple example for newline substitution is shown below −\n",
    "# 反斜杠置换 这些通常被称为转义序列，每个反斜线后跟有自己的含义字母。一个简单的例子换行符替换如下所示。\n",
    "puts \"Hello\\nWorld\\n\"; # \\n for new line\n",
    "puts \"Hello\\tWorld\";   # \\t for tab\n",
    "\n",
    "puts \"\\n................. examples of escape strings\"; # \\n for new line\n",
    "puts \"Tab\\tTab\\tTab\";                                  # \\t for tab\n",
    "puts \"This string prints out \\non two lines\"\n",
    "puts \"This string comes out\\\n",
    "on a single line\"\n"
   ]
  },
  {
   "cell_type": "markdown",
   "metadata": {},
   "source": [
    "### Command Substitution [] "
   ]
  },
  {
   "cell_type": "code",
   "execution_count": 9,
   "metadata": {},
   "outputs": [
    {
     "name": "stdout",
     "output_type": "stream",
     "text": [
      "HelloWorld\n",
      "pwd\n",
      "/home/jovyan/notebooks/examples\n",
      "A simple substitution: abc\n",
      "\n",
      "Remember that set returns the new value of the variable: X: def Y: def\n",
      "\n",
      "Note the curly braces: [set x \"This is a string within quotes within braces\"]\n",
      "\n",
      "See how the set is executed: This is a string within braces within quotes\n",
      "$x is: This is a string within braces within quotes\n",
      "\n",
      "Note the \\ escapes the bracket:\n",
      "$b is: [set y {This is a string within braces within quotes}]\n",
      "$y is: def\n"
     ]
    }
   ],
   "source": [
    "# Words don't need to be quoted unless they contain white space:\n",
    "puts HelloWorld\n",
    "# In command substitutions, square brackets, [ ] are used to evaluate the scripts inside the square brackets.\n",
    "# 命令置换 是在命令中嵌套命令的方法。对于要置换的命令，用方括号 [] 把它括起来，这样解释器就会先执行内层括号中的命令，得到命令的返回值之后，替换掉相应的括号，再执行外层的命令。\n",
    "puts pwd;\n",
    "puts [pwd];\n",
    "\n",
    "set x abc\n",
    "puts \"A simple substitution: $x\\n\"\n",
    "\n",
    "set y [set x \"def\"]\n",
    "puts \"Remember that set returns the new value of the variable: X: $x Y: $y\\n\"\n",
    "\n",
    "set z {[set x \"This is a string within quotes within braces\"]}\n",
    "puts \"Note the curly braces: $z\\n\"\n",
    "\n",
    "set a \"[set x {This is a string within braces within quotes}]\"\n",
    "puts \"See how the set is executed: $a\"\n",
    "puts \"\\$x is: $x\\n\"\n",
    "\n",
    "set b \"\\[set y {This is a string within braces within quotes}]\"\n",
    "# Note the \\ escapes the bracket, and must be doubled to be a literal character in double quotes\n",
    "puts \"Note the \\\\ escapes the bracket:\\n\\$b is: $b\"\n",
    "puts \"\\$y is: $y\"\n"
   ]
  },
  {
   "cell_type": "markdown",
   "metadata": {},
   "source": [
    "## Control Structure"
   ]
  },
  {
   "cell_type": "markdown",
   "metadata": {},
   "source": [
    "### if"
   ]
  },
  {
   "cell_type": "code",
   "execution_count": 10,
   "metadata": {},
   "outputs": [
    {
     "name": "stdout",
     "output_type": "stream",
     "text": [
      "1 is not 2\n",
      "1 is 1\n"
     ]
    }
   ],
   "source": [
    "set x 1\n",
    "\n",
    "if {$x == 2} {puts \"$x is 2\"} else {puts \"$x is not 2\"}\n",
    "\n",
    "if {$x != 1} {\n",
    "    puts \"$x is not 1\"\n",
    "} else {\n",
    "    puts \"$x is 1\"\n",
    "}\n",
    "\n",
    "\n"
   ]
  },
  {
   "cell_type": "code",
   "execution_count": 11,
   "metadata": {},
   "outputs": [
    {
     "name": "stdout",
     "output_type": "stream",
     "text": [
      "GOT 1\n",
      "$x is 1\n"
     ]
    }
   ],
   "source": [
    "if $x==1 {puts \"GOT 1\"}\n",
    "\n",
    "# Be careful, this is just an example\n",
    "# Usually you should avoid such constructs, it is less than clear what is going on and it can be dangerous\n",
    "set y x\n",
    "if \"$$y != 1\" {\n",
    "    puts \"$$y is != 1\"\n",
    "} else {\n",
    "    puts \"$$y is 1\"\n",
    "}\n",
    "\n"
   ]
  },
  {
   "cell_type": "code",
   "execution_count": 12,
   "metadata": {},
   "outputs": [],
   "source": [
    "# Multiline or block comment is written using 'if' with condition '0'. An example is shown below.\n",
    "# 多行或者块注释使用，如果条件为0。一个例子如下所示。\n",
    "if 0 {\n",
    "    my first program in Tcl program\n",
    "    Its very simple\n",
    "}"
   ]
  },
  {
   "cell_type": "markdown",
   "metadata": {},
   "source": [
    "### switch"
   ]
  },
  {
   "cell_type": "code",
   "execution_count": 13,
   "metadata": {},
   "outputs": [
    {
     "name": "stdout",
     "output_type": "stream",
     "text": [
      "MATCH ONE. 1 + one is 2\n"
     ]
    }
   ],
   "source": [
    "set x \"ONE\"\n",
    "set y 1\n",
    "set z ONE\n",
    "\n",
    "# This is probably the easiest and cleanest form of the command to remember:\n",
    "switch $x {\n",
    "    \"$z\" {\n",
    "        set y1 [expr {$y+1}]\n",
    "        puts \"MATCH \\$z. $y + $z is $y1\"\n",
    "    }\n",
    "    ONE {\n",
    "        set y1 [expr {$y+1}]\n",
    "        puts \"MATCH ONE. $y + one is $y1\"\n",
    "    }\n",
    "    TWO {\n",
    "        set y1 [expr {$y+2}]\n",
    "        puts \"MATCH TWO. $y + two is $y1\"\n",
    "    }\n",
    "    THREE {\n",
    "        set y1 [expr {$y+3}]\n",
    "        puts \"MATCH THREE. $y + three is $y1\"\n",
    "    }\n",
    "    default {\n",
    "        puts \"$x is NOT A MATCH\"\n",
    "    }\n",
    "}\n",
    "\n"
   ]
  },
  {
   "cell_type": "code",
   "execution_count": 14,
   "metadata": {},
   "outputs": [
    {
     "name": "stdout",
     "output_type": "stream",
     "text": [
      "MATCH ONE. 1 + one is 2\n"
     ]
    }
   ],
   "source": [
    "switch $x {\n",
    "    \"$z\" {\n",
    "    set y1 [expr {$y+1}]\n",
    "    puts \"MATCH \\$z. $y + $z is $y1\"\n",
    "    } \n",
    "    ONE {\n",
    "    set y1 [expr {$y+1}]\n",
    "    puts \"MATCH ONE. $y + one is $y1\"\n",
    "    } \n",
    "    TWO {\n",
    "    set y1 [expr {$y+2}]\n",
    "    puts \"MATCH TWO. $y + two is $y1\"\n",
    "    } \n",
    "    THREE {\n",
    "    set y1 [expr {$y+3}]\n",
    "    puts \"MATCH THREE. $y + three is $y1\"\n",
    "    } \n",
    "    default {\n",
    "    puts \"$x does not match any of these choices\"\n",
    "    }\n",
    "}"
   ]
  },
  {
   "cell_type": "markdown",
   "metadata": {},
   "source": [
    "### foreach"
   ]
  },
  {
   "cell_type": "code",
   "execution_count": 15,
   "metadata": {},
   "outputs": [
    {
     "name": "stdout",
     "output_type": "stream",
     "text": [
      "Tom\n",
      "Jerry\n"
     ]
    }
   ],
   "source": [
    "foreach name {Tom Jerry} {\n",
    "    puts $name\n",
    "}\n",
    "\n"
   ]
  },
  {
   "cell_type": "code",
   "execution_count": 16,
   "metadata": {},
   "outputs": [
    {
     "name": "stdout",
     "output_type": "stream",
     "text": [
      "Value\tSquare\tCube\n",
      " 1\t 1\t 1\n",
      " 3\t 9\t 27\n",
      " 5\t 25\t 125\n",
      " 7\t 49\t 343\n",
      " 2\t 4\t 8\n",
      " 4\t 16\t 64\n",
      " 6\t 36\t 216\n",
      " 8\t 64\t 512\n"
     ]
    }
   ],
   "source": [
    "set values {1 3 5 7 2 4 6 8}\t;    # Odd numbers first, for fun!\n",
    "puts \"Value\\tSquare\\tCube\"\t;        # Neat-looking header\n",
    "\n",
    "foreach x $values {\t;                # Now loop and print...\n",
    "    puts \" $x\\t [expr {$x**2}]\\t [expr {$x**3}]\"\n",
    "}\n"
   ]
  },
  {
   "cell_type": "markdown",
   "metadata": {},
   "source": [
    "### for"
   ]
  },
  {
   "cell_type": "code",
   "execution_count": 17,
   "metadata": {},
   "outputs": [
    {
     "name": "stdout",
     "output_type": "stream",
     "text": [
      "0\n",
      "1\n",
      "2\n",
      "3\n",
      "4\n"
     ]
    }
   ],
   "source": [
    "# incr 命令(increment)，用于把整数的值加 1，后面跟的是变量名，不用 $ 符号。\n",
    "for {set i 0} {$i < 5} {incr i} {\n",
    "    puts $i\n",
    "}\n"
   ]
  },
  {
   "cell_type": "code",
   "execution_count": 18,
   "metadata": {},
   "outputs": [
    {
     "name": "stdout",
     "output_type": "stream",
     "text": [
      "I inside first loop: 0\n",
      "I inside first loop: 1\n",
      "I inside first loop: 2\n",
      "I inside first loop: 3\n",
      "I inside first loop: 4\n",
      "I inside first loop: 5\n",
      "I inside first loop: 6\n",
      "I inside first loop: 7\n",
      "I inside first loop: 8\n",
      "I inside first loop: 9\n"
     ]
    }
   ],
   "source": [
    "for {set i 0} {$i < 10} {incr i} {\n",
    "    puts \"I inside first loop: $i\"\n",
    "}\n"
   ]
  },
  {
   "cell_type": "code",
   "execution_count": 19,
   "metadata": {},
   "outputs": [],
   "source": [
    "for {set i 3} {$i < 2} {incr i} {\n",
    "    puts \"I inside second loop: $i\"\n",
    "}"
   ]
  },
  {
   "cell_type": "code",
   "execution_count": 20,
   "metadata": {},
   "outputs": [
    {
     "name": "stdout",
     "output_type": "stream",
     "text": [
      "Start\n",
      "I inside third loop: 0\n",
      "I after incr: 1\n",
      "I inside third loop: 1\n",
      "I after incr: 2\n",
      "I inside third loop: 2\n",
      "I after incr: 3\n",
      "I inside third loop: 3\n",
      "I after incr: 4\n",
      "I inside third loop: 4\n",
      "I after incr: 5\n",
      "I inside third loop: 5\n",
      "I after incr: 6\n",
      "I inside third loop: 6\n",
      "I after incr: 7\n",
      "I inside third loop: 7\n",
      "I after incr: 8\n",
      "I inside third loop: 8\n",
      "I after incr: 9\n",
      "I inside third loop: 9\n",
      "I after incr: 10\n"
     ]
    }
   ],
   "source": [
    "puts \"Start\"\n",
    "set i 0\n",
    "while {$i < 10} {\n",
    "    puts \"I inside third loop: $i\"\n",
    "    incr i\n",
    "    puts \"I after incr: $i\"\n",
    "}"
   ]
  },
  {
   "cell_type": "code",
   "execution_count": 21,
   "metadata": {},
   "outputs": [
    {
     "data": {
      "text/plain": [
       "1"
      ]
     },
     "execution_count": 21,
     "metadata": {},
     "output_type": "execute_result"
    }
   ],
   "source": [
    "set i 0\n",
    "incr i\n",
    "\n",
    "# This is equivalent to:\n",
    "set i 0\n",
    "set i [expr {$i + 1}]"
   ]
  },
  {
   "cell_type": "markdown",
   "metadata": {},
   "source": [
    "### while"
   ]
  },
  {
   "cell_type": "code",
   "execution_count": 22,
   "metadata": {},
   "outputs": [
    {
     "name": "stdout",
     "output_type": "stream",
     "text": [
      "exited first loop with a equal to This is a string within braces within quotes\n",
      "\n"
     ]
    }
   ],
   "source": [
    "while {$a < 4} {\n",
    "    puts \"Now a = $a\"\n",
    "    incr a\n",
    "}\n",
    "puts \"exited first loop with a equal to $a\\n\"\n"
   ]
  },
  {
   "cell_type": "code",
   "execution_count": 23,
   "metadata": {},
   "outputs": [
    {
     "name": "stdout",
     "output_type": "stream",
     "text": [
      "x is 1\n",
      "x is 2\n",
      "x is 3\n",
      "x is 4\n",
      "exited first loop with X equal to 5\n",
      "\n"
     ]
    }
   ],
   "source": [
    "set x 1\n",
    "# This is a normal way to write a Tcl while loop.\n",
    "while {$x < 5} {\n",
    "    puts \"x is $x\"\n",
    "    set x [expr {$x + 1}]\n",
    "}\n",
    "puts \"exited first loop with X equal to $x\\n\"\n"
   ]
  },
  {
   "cell_type": "code",
   "execution_count": 24,
   "metadata": {},
   "outputs": [
    {
     "name": "stdout",
     "output_type": "stream",
     "text": [
      "x is 1\n",
      "x is 2\n",
      "x is 3\n",
      "exited second loop with X equal to 8\n"
     ]
    }
   ],
   "source": [
    "# The next example shows the difference between \"..\" and {...}\n",
    "# How many times does the following loop run?  Why does it not print on each pass?\n",
    "set x 0\n",
    "while \"$x < 5\" {\n",
    "    set x [expr {$x + 1}]\n",
    "    if {$x > 7} break\n",
    "    if \"$x > 3\" continue\n",
    "    puts \"x is $x\"\n",
    "}\n",
    "puts \"exited second loop with X equal to $x\"\n"
   ]
  },
  {
   "cell_type": "markdown",
   "metadata": {},
   "source": [
    "## Data Structure"
   ]
  },
  {
   "cell_type": "markdown",
   "metadata": {},
   "source": [
    "### Array数组"
   ]
  },
  {
   "cell_type": "code",
   "execution_count": 25,
   "metadata": {},
   "outputs": [
    {
     "name": "stdout",
     "output_type": "stream",
     "text": [
      "Tcl\n",
      "C Language\n",
      "W30x116\n",
      "W30x116\n",
      "\n",
      "2\n",
      "\n"
     ]
    }
   ],
   "source": [
    "# 数组的定义\\\n",
    "set ArrayName(Index) value\n",
    "set languages(0)     Tcl\n",
    "set languages(1)     \"C Language\"\n",
    "set sectLabel(2)     W30x116; \n",
    "set sectLabel(3)     W30x116;\n",
    "puts $languages(0)\n",
    "puts $languages(1)\n",
    "puts $sectLabel(2)\n",
    "puts $sectLabel(3)\\n\n",
    "\n",
    "# Size of Array\n",
    "puts  [array size languages]\\n\n"
   ]
  },
  {
   "cell_type": "code",
   "execution_count": 26,
   "metadata": {
    "scrolled": true
   },
   "outputs": [
    {
     "name": "stdout",
     "output_type": "stream",
     "text": [
      "languages(0) : Tcl\n",
      "languages(1) : C Language\n"
     ]
    }
   ],
   "source": [
    "# Array Iteration for printing elements of the array\n",
    "for { set index 0 }  { $index < [array size languages] }  { incr index } {\n",
    "    puts \"languages($index) : $languages($index)\"\n",
    "}"
   ]
  },
  {
   "cell_type": "markdown",
   "metadata": {},
   "source": [
    "### list列表"
   ]
  },
  {
   "cell_type": "code",
   "execution_count": 27,
   "metadata": {},
   "outputs": [
    {
     "name": "stdout",
     "output_type": "stream",
     "text": [
      "1 2 3.0 4.\n",
      "4\n",
      "1\n",
      "4.\n",
      "1 2 3.0 4. 5.0 Jerry\n",
      "\n"
     ]
    }
   ],
   "source": [
    "set a 1;                    # 创建变量a，赋值\"1\"\n",
    "set b 2;                    # 创建变量b，赋值\"2\"\n",
    "set c 3.0;                  # 创建变量c，赋值\"3.0\"\n",
    "set d 4.;                   # 创建变量d，赋值\"4.\"\n",
    "set e 5.0;                  # 创建变量e，赋值\"5.0\"\n",
    "set f Jerry;                # 创建变量f，赋值\"Jerry\"\n",
    "\n",
    "# 列表的定义\n",
    "# 法1：set listName { item1 item2 item3 .. itemn }\n",
    "# 法2：set listName [list item1 item2 item3]\n",
    "# 法3：set listName [split \"items separated by a character\" split_character]\\\n",
    "set listName [list item1 item2 item3]\n",
    "set lst      [list $a $b $c $d] ;# 建立一个有四个元素的列表  \n",
    "\n",
    "puts $lst;                  # 输出列表\n",
    "puts [llength $lst] ;       # 输出列表的长度，llength 可以获得列表的长度\n",
    "puts [lindex $lst 0] ;      # 输出列表中下标为0的元素（第一个元素），lindex 可以通过下标获得列表中的元素，要注意向这个命令传递的是列表的变量名而不是列表本身（不加 $ ）\n",
    "puts [lindex $lst end] ;    # 输出列表中的末尾元素，lindex 可以通过下标获得列表中的元素，要注意向这个命令传递的是列表的变量名而不是列表本身（不加 $ ）\n",
    "lappend lst $e $f ;         # 在列表后面追加两个元素,lappend 可以在列表后面追加元素\n",
    "puts $lst\\n;                # 输出追加两个元素后的列表\n"
   ]
  },
  {
   "cell_type": "code",
   "execution_count": 28,
   "metadata": {},
   "outputs": [
    {
     "name": "stdout",
     "output_type": "stream",
     "text": [
      "a is item number 0 in list x\n",
      "b is item number 1 in list x\n",
      "c is item number 2 in list x\n",
      "Item at index 2 of the list {a b c} is: c\n",
      "\n",
      "We celebrate on the 4'th day of the 7'th month\n",
      "\n"
     ]
    }
   ],
   "source": [
    "set x \"a b c\";                                                                   # makes a list of the arguments\n",
    "set i 0\n",
    "foreach j $x {\n",
    "    puts \"$j is item number $i in list x\"\n",
    "    incr i\n",
    "}\n",
    "puts \"Item at index 2 of the list {$x} is: [lindex $x 2]\\n\";                     # Returns the index'th item from the list. Note: lists start from 0, not 1\n",
    "set y [split 7/4/1776 \"/\"];                                                      # Splits the string into a list of items wherever the splitChars occur in the code. SplitChars defaults to being whitespace. \n",
    "puts \"We celebrate on the [lindex $y 1]'th day of the [lindex $y 0]'th month\\n\" \n"
   ]
  },
  {
   "cell_type": "markdown",
   "metadata": {},
   "source": [
    "### Adding & Deleting members of a list"
   ]
  },
  {
   "cell_type": "code",
   "execution_count": 29,
   "metadata": {},
   "outputs": [
    {
     "name": "stdout",
     "output_type": "stream",
     "text": [
      "Treated as a list: a b {c d e} {f {g h}}\n",
      "\n",
      "Transformed by split: a b \\{c d e\\} \\{f \\{g h\\}\\}\n",
      "Transformed by split: a { } b { } \\{ c { } d { } e \\} { } \\{ f { } \\{ g { } h \\} \\}\n",
      "Transformed by split: {a b } {c d e} { } {f } {g h} {} {}\n",
      "\n",
      "Concated: a b c d e f {g h}\n",
      "\n",
      "After lappending: a b c d e f {g h} {ij K lm}\n",
      "\n",
      "After linsert at position 3: a b c {1 2 3} d e f {g h} {ij K lm}\n",
      "\n",
      "After lreplacing 3 positions with 2 values at position 3: a b c AA BB f {g h} {ij K lm}\n",
      "\n"
     ]
    }
   ],
   "source": [
    "set b [list a b {c d e} {f {g h}}]\n",
    "puts \"Treated as a list: $b\\n\"\n",
    "set b [split \"a b {c d e} {f {g h}}\"]\n",
    "puts \"Transformed by split: $b\"\n",
    "set b [split \"a b {c d e} {f {g h}}\" \"[]\"]\n",
    "puts \"Transformed by split: $b\"\n",
    "set b [split \"a b {c d e} {f {g h}}\" \"{}\"]\n",
    "puts \"Transformed by split: $b\\n\"\n",
    "\n",
    "set a [concat a b {c d e} {f {g h}}]\n",
    "puts \"Concated: $a\\n\"\n",
    "\n",
    "lappend a {ij K lm}                        ;# Note: {ij K lm} is a single element\n",
    "puts \"After lappending: $a\\n\"\n",
    "\n",
    "set b [linsert $a 3 \"1 2 3\"]               ;# \"1 2 3\" is a single element\n",
    "puts \"After linsert at position 3: $b\\n\"\n",
    "\n",
    "set b [lreplace $b 3 5 \"AA\" \"BB\"]\n",
    "puts \"After lreplacing 3 positions with 2 values at position 3: $b\\n\"\n"
   ]
  },
  {
   "cell_type": "markdown",
   "metadata": {},
   "source": [
    "### More list commands - lsearch, lsort, lrange"
   ]
  },
  {
   "cell_type": "code",
   "execution_count": 30,
   "metadata": {},
   "outputs": [
    {
     "name": "stdout",
     "output_type": "stream",
     "text": [
      "The following presidents served between Washington and Madison\n",
      "Starting in 1797: President Adams \n",
      "Starting in 1801: President Jefferson \n",
      "\n",
      "3 Presidents came before Madison chronologically\n",
      "3 Presidents came before Madison alphabetically\n"
     ]
    }
   ],
   "source": [
    "set list [list {Washington 1789} {Adams 1797} {Jefferson 1801} \\\n",
    "               {Madison 1809} {Monroe 1817} {Adams 1825} ]\n",
    "\n",
    "set x [lsearch $list Washington*]\n",
    "set y [lsearch $list Madison*]\n",
    "incr x\n",
    "incr y -1                        ;# Set range to be not-inclusive\n",
    "\n",
    "set subsetlist [lrange $list $x $y]\n",
    "\n",
    "puts \"The following presidents served between Washington and Madison\"\n",
    "foreach item $subsetlist {\n",
    "    puts \"Starting in [lindex $item 1]: President [lindex $item 0] \"\n",
    "}\n",
    "\n",
    "set x [lsearch $list Madison*]\n",
    "\n",
    "set srtlist [lsort $list]\n",
    "set y [lsearch $srtlist Madison*]\n",
    "\n",
    "puts \"\\n$x Presidents came before Madison chronologically\"\n",
    "puts \"$y Presidents came before Madison alphabetically\"\n"
   ]
  },
  {
   "cell_type": "markdown",
   "metadata": {},
   "source": [
    "## New Commands"
   ]
  },
  {
   "cell_type": "markdown",
   "metadata": {},
   "source": [
    "### proc"
   ]
  },
  {
   "cell_type": "code",
   "execution_count": 31,
   "metadata": {},
   "outputs": [
    {
     "name": "stdout",
     "output_type": "stream",
     "text": [
      "The sum of 2 + 3 is: 5\n",
      "\n"
     ]
    }
   ],
   "source": [
    "proc sum {arg1 arg2} {                       \n",
    "    set x [expr {$arg1 + $arg2}];            # proc sum(name) {arg1 arg2}(args) {...}(body)\n",
    "    return $x;                               # 返回值\n",
    "}\n",
    "\n",
    "puts \"The sum of 2 + 3 is: [sum 2 3]\\n\";     # Execute sum\n"
   ]
  },
  {
   "cell_type": "code",
   "execution_count": 32,
   "metadata": {},
   "outputs": [
    {
     "name": "stdout",
     "output_type": "stream",
     "text": [
      "The foor command has been replaced by a puts\n",
      "The arguments were: \n",
      "set i 1\n",
      "$i < 10\n",
      "incr i\n",
      "\n"
     ]
    }
   ],
   "source": [
    "# Example 2 creates a new command, foor {a b c}, to put a, b and c one by one.\n",
    "proc foor {a b c} {\n",
    "    puts \"The foor command has been replaced by a puts\";\n",
    "    puts \"The arguments were: \\n$a\\n$b\\n$c\\n\"\n",
    "}\n",
    "\n",
    "foor {set i 1} {$i < 10} {incr i};            # Execute foor\n"
   ]
  },
  {
   "cell_type": "markdown",
   "metadata": {},
   "source": [
    "### return"
   ]
  },
  {
   "cell_type": "code",
   "execution_count": 33,
   "metadata": {},
   "outputs": [
    {
     "name": "stdout",
     "output_type": "stream",
     "text": [
      "NIKE = 8\n",
      "\n"
     ]
    }
   ],
   "source": [
    "# Variables can be defined with a default value by placing the variable name and the default within braces within args. For example:\n",
    "proc justdoit {a {bb} {ccc}} {\n",
    "    set NI $a;\n",
    "    set KE $bb;\n",
    "    return [expr {$NI+$KE}]\n",
    "}\n",
    "\n",
    "puts \"NIKE = [justdoit 3 5 1]\\n\";\n"
   ]
  },
  {
   "cell_type": "code",
   "execution_count": 34,
   "metadata": {},
   "outputs": [
    {
     "name": "stdout",
     "output_type": "stream",
     "text": [
      "There is only one argument and it is: ONE\n",
      "There are two arguments - ONE and TWO\n",
      "There are many arguments - ONE and TWO and THREE\n",
      "There are many arguments - ONE and TWO and THREE FOUR\n",
      "The example was called with 1, 2, many, and many Arguments\n",
      "\n"
     ]
    }
   ],
   "source": [
    "# A proc will accept a variable number of arguments if the last declared argument is the word args. 如下例，自变量数量可以不确定，但需以args结尾。\n",
    "# proc example {required {default1 a} {default2 b} args} {...}\n",
    "proc example {first {second \"\"} args} {\n",
    "    if {$second eq \"\"} {                                                 ; # compare two strings for equality (eq) or inequality (ne)\n",
    "        puts \"There is only one argument and it is: $first\"\n",
    "        return 1\n",
    "    } else {\n",
    "        if {$args eq \"\"} {\n",
    "            puts \"There are two arguments - $first and $second\"\n",
    "            return 2\n",
    "        } else {\n",
    "            puts \"There are many arguments - $first and $second and $args\"\n",
    "            return \"many\"\n",
    "        }\n",
    "    }\n",
    "}\n",
    "\n",
    "set count1 [example ONE]\n",
    "set count2 [example ONE TWO]\n",
    "set count3 [example ONE TWO THREE ]\n",
    "set count4 [example ONE TWO THREE FOUR]\n",
    "\n",
    "puts \"The example was called with $count1, $count2, $count3, and $count4 Arguments\\n\"\n"
   ]
  },
  {
   "cell_type": "code",
   "execution_count": null,
   "metadata": {},
   "outputs": [],
   "source": []
  }
 ],
 "metadata": {
  "hide_input": false,
  "kernelspec": {
   "display_name": "Tcl",
   "language": "Tcl",
   "name": "tcl"
  },
  "language_info": {
   "file_extension": ".tcl",
   "mimetype": "txt/x-tcl",
   "name": "tcl",
   "version": "8.6.10"
  },
  "toc": {
   "base_numbering": 1,
   "nav_menu": {},
   "number_sections": true,
   "sideBar": true,
   "skip_h1_title": true,
   "title_cell": "Table of Contents",
   "title_sidebar": "Contents",
   "toc_cell": true,
   "toc_position": {},
   "toc_section_display": true,
   "toc_window_display": true
  }
 },
 "nbformat": 4,
 "nbformat_minor": 4
}
